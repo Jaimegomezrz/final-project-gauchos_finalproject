{
 "cells": [
  {
   "cell_type": "code",
   "execution_count": 1,
   "id": "e9dd9e94-a5ae-4145-aa17-abb75f0ed3cc",
   "metadata": {
    "tags": []
   },
   "outputs": [],
   "source": [
    "# Sandy Hurricane\n"
   ]
  },
  {
   "cell_type": "code",
   "execution_count": null,
   "id": "5c709c6e-c621-4619-9c93-4b71793b6023",
   "metadata": {},
   "outputs": [],
   "source": []
  }
 ],
 "metadata": {
  "kernelspec": {
   "display_name": "Python 3 (ipykernel)",
   "language": "python",
   "name": "python3"
  },
  "language_info": {
   "codemirror_mode": {
    "name": "ipython",
    "version": 3
   },
   "file_extension": ".py",
   "mimetype": "text/x-python",
   "name": "python",
   "nbconvert_exporter": "python",
   "pygments_lexer": "ipython3",
   "version": "3.10.9"
  }
 },
 "nbformat": 4,
 "nbformat_minor": 5
}
