{
 "cells": [
  {
   "cell_type": "raw",
   "id": "51f57189-c012-48cc-a728-4fdcbefd0cc6",
   "metadata": {},
   "source": [
    "# Sandy Hurricane\n",
    "\n",
    "- member 1: put their contribution here\n",
    "- member 2: put their contribution here\n",
    "- member 3: put their contribution here\n",
    "- ..."
   ]
  },
  {
   "cell_type": "code",
   "execution_count": null,
   "id": "24c09b95-de30-4d46-9405-6dd280900691",
   "metadata": {},
   "outputs": [],
   "source": []
  }
 ],
 "metadata": {
  "kernelspec": {
   "display_name": "Python 3 (ipykernel)",
   "language": "python",
   "name": "python3"
  },
  "language_info": {
   "codemirror_mode": {
    "name": "ipython",
    "version": 3
   },
   "file_extension": ".py",
   "mimetype": "text/x-python",
   "name": "python",
   "nbconvert_exporter": "python",
   "pygments_lexer": "ipython3",
   "version": "3.10.9"
  }
 },
 "nbformat": 4,
 "nbformat_minor": 5
}
