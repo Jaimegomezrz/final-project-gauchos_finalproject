{
 "cells": [
  {
   "cell_type": "markdown",
   "id": "89fc2562-159b-41ce-9118-559f9a5618ab",
   "metadata": {},
   "source": [
    "# Sandy Hurricane\n",
    "\n",
    "- member 1: put their contribution here\n",
    "- member 2: put their contribution here\n",
    "- member 3: put their contribution here\n",
    "- ..."
   ]
  },
  {
   "cell_type": "code",
   "execution_count": 1,
   "id": "24c09b95-de30-4d46-9405-6dd280900691",
   "metadata": {},
   "outputs": [
    {
     "ename": "SyntaxError",
     "evalue": "invalid syntax (2249516803.py, line 1)",
     "output_type": "error",
     "traceback": [
      "\u001b[0;36m  Cell \u001b[0;32mIn[1], line 1\u001b[0;36m\u001b[0m\n\u001b[0;31m    looking forward to it\u001b[0m\n\u001b[0m            ^\u001b[0m\n\u001b[0;31mSyntaxError\u001b[0m\u001b[0;31m:\u001b[0m invalid syntax\n"
     ]
    }
   ],
   "source": [
    "looking forward to it "
   ]
  },
  {
   "cell_type": "code",
   "execution_count": null,
   "id": "a1e4ea08-1054-4caa-a1bb-afd81799d542",
   "metadata": {},
   "outputs": [],
   "source": []
  }
 ],
 "metadata": {
  "kernelspec": {
   "display_name": "Python 3 (ipykernel)",
   "language": "python",
   "name": "python3"
  },
  "language_info": {
   "codemirror_mode": {
    "name": "ipython",
    "version": 3
   },
   "file_extension": ".py",
   "mimetype": "text/x-python",
   "name": "python",
   "nbconvert_exporter": "python",
   "pygments_lexer": "ipython3",
   "version": "3.10.9"
  }
 },
 "nbformat": 4,
 "nbformat_minor": 5
}
